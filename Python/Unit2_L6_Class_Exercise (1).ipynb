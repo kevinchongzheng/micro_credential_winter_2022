{
  "nbformat": 4,
  "nbformat_minor": 0,
  "metadata": {
    "colab": {
      "name": "Unit2_L6 Class Exercise.ipynb",
      "provenance": []
    },
    "kernelspec": {
      "name": "python3",
      "display_name": "Python 3"
    },
    "language_info": {
      "name": "python"
    }
  },
  "cells": [
    {
      "cell_type": "code",
      "execution_count": null,
      "metadata": {
        "colab": {
          "base_uri": "https://localhost:8080/"
        },
        "id": "F73u8HRf7Ylc",
        "outputId": "e2f4ee99-3603-4fd7-8824-0f153612cc43"
      },
      "outputs": [
        {
          "output_type": "stream",
          "name": "stdout",
          "text": [
            "30\n",
            "23\n",
            "11\n"
          ]
        },
        {
          "output_type": "execute_result",
          "data": {
            "text/plain": [
              "{'Dray': '23',\n",
              " 'Klay': '11',\n",
              " 'Last_exam': 'echo',\n",
              " 'MRN': '000000',\n",
              " 'Steph': '30'}"
            ]
          },
          "metadata": {},
          "execution_count": 5
        }
      ],
      "source": [
        "test_1 = {\"Steph\" : \"30\" , \"Dray\" : \"23\" , \"Klay\" : \"11\"}\n",
        "print(test_1[\"Steph\"])\n",
        "print(test_1[\"Dray\"])\n",
        "print(test_1[\"Klay\"])\n",
        "\n",
        "test_1[\"MRN\"] = \"000000\"\n",
        "test_1[\"Last_exam\"] = \"echo\"\n",
        "\n",
        "test_1"
      ]
    },
    {
      "cell_type": "code",
      "source": [
        "patient_2 = {}\n",
        "patient_2[\"first_name\"] = \"Robert\"\n",
        "patient_2[\"last_name\"] = \"Diaz\"\n",
        "patient_2"
      ],
      "metadata": {
        "colab": {
          "base_uri": "https://localhost:8080/"
        },
        "id": "Q1QqHEfkBUOp",
        "outputId": "58a1d56e-2698-4504-b714-e8329f2fe217"
      },
      "execution_count": null,
      "outputs": [
        {
          "output_type": "execute_result",
          "data": {
            "text/plain": [
              "{'first_name': 'Robert', 'last_name': 'Diaz'}"
            ]
          },
          "metadata": {},
          "execution_count": 7
        }
      ]
    },
    {
      "cell_type": "code",
      "source": [
        "#1\n",
        "friend = {\"First_name\": \"Sam\",\n",
        "          \"Last_name\": \"Wu\",\n",
        "          \"Age\": 21,\n",
        "          \"Country\" : \"China\",\n",
        "          \"City\" : \"Guangzhou\"}\n",
        "print(friend)\n",
        "\n",
        "#2\n",
        "people = {\"James\": 25,\n",
        "          \"Maria\": 21,\n",
        "          \"Robert\": 16,\n",
        "          \"Ben\": 8,\n",
        "          \"Tim\": 31}\n",
        "print(people)\n",
        "\n",
        "#3\n",
        "glossary = {\"Eat\" : \"put food into the mouth, chew it and swallow it.\",\n",
        "            \"Hamburger\" : \"a bun with beef, tomato, lettuce, cheese, and different sauce inside(you can customize your hamburger and add whatever you want).\",\n",
        "            \"Python\" : \"is an interpreted, interactive, object-oriented, and high-level programming language.\"}\n",
        "print(glossary[\"Eat\"])\n",
        "print(glossary[\"Hamburger\"])\n",
        "print(glossary['Python'])\n"
      ],
      "metadata": {
        "colab": {
          "base_uri": "https://localhost:8080/"
        },
        "id": "GQ7ORCF3EJi2",
        "outputId": "991c73d7-365e-436b-884b-ad19ed3c86df"
      },
      "execution_count": null,
      "outputs": [
        {
          "output_type": "stream",
          "name": "stdout",
          "text": [
            "{'First_name': 'Sam', 'Last_name': 'Wu', 'Age': 21, 'Country': 'China', 'City': 'Guangzhou'}\n",
            "{'James': 25, 'Maria': 21, 'Robert': 16, 'Ben': 8, 'Tim': 31}\n",
            "put food into the mouth, chew it and swallow it.\n",
            "a bun with beef, tomato, lettuce, cheese, and different sauce inside(you can customize your hamburger and add whatever you want).\n",
            "is an interpreted, interactive, object-oriented, and high-level programming language.\n"
          ]
        }
      ]
    },
    {
      "cell_type": "code",
      "source": [
        "prompt = \"Input a message. I will repeat it until you type 'quit'\"\n",
        "message =\"\"\n",
        "\n",
        "while message != \"quit\":\n",
        "  message = input(prompt)\n",
        "  print(message)"
      ],
      "metadata": {
        "colab": {
          "base_uri": "https://localhost:8080/"
        },
        "id": "_fWqk_1IXLdx",
        "outputId": "abe9610c-b62f-4cc4-e257-1a987e9bfc8c"
      },
      "execution_count": null,
      "outputs": [
        {
          "output_type": "stream",
          "name": "stdout",
          "text": [
            "Input a message. I will repeat it until you type 'quit'hi\n",
            "hi\n",
            "Input a message. I will repeat it until you type 'quit'hi\n",
            "hi\n",
            "Input a message. I will repeat it until you type 'quit'hello\n",
            "hello\n",
            "Input a message. I will repeat it until you type 'quit'quit\n",
            "quit\n"
          ]
        }
      ]
    },
    {
      "cell_type": "code",
      "source": [
        "prompt = \"Input a message. I will repeat it until you type 'quit'\"\n",
        "message =\"\"\n",
        "\n",
        "active = True\n",
        "while active:\n",
        "  message = input(prompt)\n",
        "\n",
        "  if message == \"quit\":\n",
        "    active = False\n",
        "  else:\n",
        "    print(message)"
      ],
      "metadata": {
        "colab": {
          "base_uri": "https://localhost:8080/"
        },
        "id": "tFJ000cmYpWW",
        "outputId": "708ce152-df39-4a99-ec9e-76c09f269250"
      },
      "execution_count": null,
      "outputs": [
        {
          "name": "stdout",
          "output_type": "stream",
          "text": [
            "Input a message. I will repeat it until you type 'quit'hi\n",
            "hi\n",
            "Input a message. I will repeat it until you type 'quit'hello\n",
            "hello\n",
            "Input a message. I will repeat it until you type 'quit'quit\n"
          ]
        }
      ]
    }
  ]
}