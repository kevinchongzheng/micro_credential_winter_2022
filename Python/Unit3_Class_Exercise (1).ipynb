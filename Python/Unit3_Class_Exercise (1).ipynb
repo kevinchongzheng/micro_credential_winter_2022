{
  "nbformat": 4,
  "nbformat_minor": 0,
  "metadata": {
    "colab": {
      "name": "Unit3_Class Exercise.ipynb",
      "provenance": []
    },
    "kernelspec": {
      "name": "python3",
      "display_name": "Python 3"
    },
    "language_info": {
      "name": "python"
    }
  },
  "cells": [
    {
      "cell_type": "markdown",
      "source": [
        "#Class Exercise"
      ],
      "metadata": {
        "id": "i1tjNg-9sva5"
      }
    },
    {
      "cell_type": "code",
      "execution_count": null,
      "metadata": {
        "colab": {
          "base_uri": "https://localhost:8080/"
        },
        "id": "Rv_BA1LBqBiv",
        "outputId": "54ff2c6c-1af0-40dc-e5da-caa6b2607521"
      },
      "outputs": [
        {
          "output_type": "stream",
          "name": "stdout",
          "text": [
            "18\n",
            "2\n",
            "8.625\n",
            "5.337075510052299\n",
            "List of indices of maximum element : [7]\n",
            "List of indices of minimum element : [6]\n"
          ]
        }
      ],
      "source": [
        "arr = numpy.array([5,7,12,4,6,15,2,18])\n",
        "maxNum = numpy.amax(arr)\n",
        "minNum = numpy.amin(arr)\n",
        "avgNum = numpy.average(arr)\n",
        "stdNum = numpy.std(arr)\n",
        "whereMax = numpy.where(arr == numpy.max(arr))\n",
        "whereMin = numpy.where(arr == numpy.min(arr))\n",
        "print(maxNum)\n",
        "print(minNum)\n",
        "print(avgNum)\n",
        "print(stdNum)\n",
        "print(\"List of indices of maximum element :\", whereMax[0])\n",
        "print(\"List of indices of minimum element :\", whereMin[0])"
      ]
    },
    {
      "cell_type": "code",
      "source": [
        "import pandas as pd\n",
        "\n",
        "data = {\n",
        "        \"calories\": [100,200,300] ,\n",
        "        \"duration\": [10,20,30]\n",
        "}\n",
        "df = pd.DataFrame(data)\n",
        "print(df)\n",
        "print(df.loc[0])"
      ],
      "metadata": {
        "colab": {
          "base_uri": "https://localhost:8080/"
        },
        "id": "U_izKcdJBCza",
        "outputId": "942e8dc0-50bd-48b3-9261-0e25d123bd9b"
      },
      "execution_count": null,
      "outputs": [
        {
          "output_type": "stream",
          "name": "stdout",
          "text": [
            "   calories  duration\n",
            "0       100        10\n",
            "1       200        20\n",
            "2       300        30\n",
            "calories    100\n",
            "duration     10\n",
            "Name: 0, dtype: int64\n"
          ]
        }
      ]
    },
    {
      "cell_type": "code",
      "source": [
        "import numpy as np\n",
        "import pandas as pd\n",
        "from numpy.random import randn\n",
        "np.random.seed(123)\n",
        "\n",
        "df = pd.DataFrame(randn(5,4), [\"A\",\"B\",\"C\",\"D\",\"E\"],[\"W\",\"X\",\"Y\",\"Z\"])\n",
        "print(df)\n",
        "print(df['W'])\n",
        "print(df[[\"W\",\"X\"]])\n",
        "\n",
        "df[\"new\"] = df[\"W\"] + df[\"Z\"]\n",
        "print(df)\n",
        "\n",
        "df2 = df.drop(\"Y\",axis = 1)\n",
        "print(df2)\n",
        "\n",
        "df3 = df.drop(\"E\",axis = 0)\n",
        "print(df3)\n",
        "\n",
        "print(df)"
      ],
      "metadata": {
        "colab": {
          "base_uri": "https://localhost:8080/"
        },
        "id": "J8zE_1aUEv4N",
        "outputId": "4cc8a318-8a8a-4051-ab49-8068c98c9804"
      },
      "execution_count": null,
      "outputs": [
        {
          "output_type": "stream",
          "name": "stdout",
          "text": [
            "          W         X         Y         Z\n",
            "A -1.085631  0.997345  0.282978 -1.506295\n",
            "B -0.578600  1.651437 -2.426679 -0.428913\n",
            "C  1.265936 -0.866740 -0.678886 -0.094709\n",
            "D  1.491390 -0.638902 -0.443982 -0.434351\n",
            "E  2.205930  2.186786  1.004054  0.386186\n",
            "A   -1.085631\n",
            "B   -0.578600\n",
            "C    1.265936\n",
            "D    1.491390\n",
            "E    2.205930\n",
            "Name: W, dtype: float64\n",
            "          W         X\n",
            "A -1.085631  0.997345\n",
            "B -0.578600  1.651437\n",
            "C  1.265936 -0.866740\n",
            "D  1.491390 -0.638902\n",
            "E  2.205930  2.186786\n",
            "          W         X         Y         Z       new\n",
            "A -1.085631  0.997345  0.282978 -1.506295 -2.591925\n",
            "B -0.578600  1.651437 -2.426679 -0.428913 -1.007513\n",
            "C  1.265936 -0.866740 -0.678886 -0.094709  1.171227\n",
            "D  1.491390 -0.638902 -0.443982 -0.434351  1.057038\n",
            "E  2.205930  2.186786  1.004054  0.386186  2.592116\n",
            "          W         X         Z       new\n",
            "A -1.085631  0.997345 -1.506295 -2.591925\n",
            "B -0.578600  1.651437 -0.428913 -1.007513\n",
            "C  1.265936 -0.866740 -0.094709  1.171227\n",
            "D  1.491390 -0.638902 -0.434351  1.057038\n",
            "E  2.205930  2.186786  0.386186  2.592116\n",
            "          W         X         Y         Z       new\n",
            "A -1.085631  0.997345  0.282978 -1.506295 -2.591925\n",
            "B -0.578600  1.651437 -2.426679 -0.428913 -1.007513\n",
            "C  1.265936 -0.866740 -0.678886 -0.094709  1.171227\n",
            "D  1.491390 -0.638902 -0.443982 -0.434351  1.057038\n",
            "          W         X         Y         Z       new\n",
            "A -1.085631  0.997345  0.282978 -1.506295 -2.591925\n",
            "B -0.578600  1.651437 -2.426679 -0.428913 -1.007513\n",
            "C  1.265936 -0.866740 -0.678886 -0.094709  1.171227\n",
            "D  1.491390 -0.638902 -0.443982 -0.434351  1.057038\n",
            "E  2.205930  2.186786  1.004054  0.386186  2.592116\n"
          ]
        }
      ]
    }
  ]
}