{
  "nbformat": 4,
  "nbformat_minor": 0,
  "metadata": {
    "colab": {
      "name": "Unit2_L4.ipynb",
      "provenance": []
    },
    "kernelspec": {
      "name": "python3",
      "display_name": "Python 3"
    },
    "language_info": {
      "name": "python"
    }
  },
  "cells": [
    {
      "cell_type": "code",
      "execution_count": null,
      "metadata": {
        "id": "HEqI7EdTmhl3"
      },
      "outputs": [],
      "source": [
        "#1\n",
        "food = [\"Rice\", \"Hamburger\", \"Mango\", \"Apple\", \"Soup\"]"
      ]
    },
    {
      "cell_type": "code",
      "source": [
        "#2\n",
        "for favorite in food:\n",
        "  print(favorite)"
      ],
      "metadata": {
        "colab": {
          "base_uri": "https://localhost:8080/"
        },
        "id": "7Hgzni8FnsD5",
        "outputId": "7c70f99a-2721-4b06-c0f1-8700d3cfec7f"
      },
      "execution_count": null,
      "outputs": [
        {
          "output_type": "stream",
          "name": "stdout",
          "text": [
            "Rice\n",
            "Hamburger\n",
            "Mango\n",
            "Apple\n",
            "Soup\n"
          ]
        }
      ]
    },
    {
      "cell_type": "code",
      "source": [
        "#3\n",
        "for favorite in food:\n",
        "  print(favorite + \" is one of my favorite food.\")"
      ],
      "metadata": {
        "colab": {
          "base_uri": "https://localhost:8080/"
        },
        "id": "BFAOoX4dn8KV",
        "outputId": "dc5320f5-14ba-4127-de5c-ae6cad1a111f"
      },
      "execution_count": null,
      "outputs": [
        {
          "output_type": "stream",
          "name": "stdout",
          "text": [
            "Rice is one of my favorite food.\n",
            "Hamburger is one of my favorite food.\n",
            "Mango is one of my favorite food.\n",
            "Apple is one of my favorite food.\n",
            "Soup is one of my favorite food.\n"
          ]
        }
      ]
    },
    {
      "cell_type": "code",
      "source": [
        "#4\n",
        "number = list(range(1,21,2))\n",
        "for num in number:\n",
        "  print(num)"
      ],
      "metadata": {
        "colab": {
          "base_uri": "https://localhost:8080/"
        },
        "id": "oT6GdxOcoK2F",
        "outputId": "202f698e-21da-4488-aef9-a702564d1c2a"
      },
      "execution_count": null,
      "outputs": [
        {
          "output_type": "stream",
          "name": "stdout",
          "text": [
            "1\n",
            "3\n",
            "5\n",
            "7\n",
            "9\n",
            "11\n",
            "13\n",
            "15\n",
            "17\n",
            "19\n"
          ]
        }
      ]
    },
    {
      "cell_type": "code",
      "source": [
        "#5\n",
        "print(sorted(food))"
      ],
      "metadata": {
        "colab": {
          "base_uri": "https://localhost:8080/"
        },
        "id": "e5TRRqFkokm-",
        "outputId": "360928fe-47a6-4884-85e1-859c2f575092"
      },
      "execution_count": null,
      "outputs": [
        {
          "output_type": "stream",
          "name": "stdout",
          "text": [
            "['Apple', 'Hamburger', 'Mango', 'Rice', 'Soup']\n"
          ]
        }
      ]
    },
    {
      "cell_type": "code",
      "source": [
        "#6\n",
        "print(food[:3])"
      ],
      "metadata": {
        "colab": {
          "base_uri": "https://localhost:8080/"
        },
        "id": "dNmPF4wQo8Ir",
        "outputId": "66971d47-551c-4838-c0d7-0d5ce4ab35de"
      },
      "execution_count": null,
      "outputs": [
        {
          "output_type": "stream",
          "name": "stdout",
          "text": [
            "['Rice', 'Hamburger', 'Mango']\n"
          ]
        }
      ]
    },
    {
      "cell_type": "code",
      "source": [
        "#7\n",
        "for last in food[-2:]:\n",
        "  print(last)"
      ],
      "metadata": {
        "colab": {
          "base_uri": "https://localhost:8080/"
        },
        "id": "YZDwO6KApSbQ",
        "outputId": "fbacdc0c-ee2a-4aa2-ecc3-383a77013bf4"
      },
      "execution_count": null,
      "outputs": [
        {
          "output_type": "stream",
          "name": "stdout",
          "text": [
            "Apple\n",
            "Soup\n"
          ]
        }
      ]
    }
  ]
}