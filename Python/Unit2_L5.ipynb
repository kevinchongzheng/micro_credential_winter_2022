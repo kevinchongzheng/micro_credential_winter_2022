{
  "nbformat": 4,
  "nbformat_minor": 0,
  "metadata": {
    "colab": {
      "name": "Unit2_L5.ipynb",
      "provenance": []
    },
    "kernelspec": {
      "name": "python3",
      "display_name": "Python 3"
    },
    "language_info": {
      "name": "python"
    }
  },
  "cells": [
    {
      "cell_type": "code",
      "execution_count": null,
      "metadata": {
        "colab": {
          "base_uri": "https://localhost:8080/"
        },
        "id": "HsV6yJyIrUvd",
        "outputId": "166d77fd-cb13-4d3c-aa77-49a5e1b34f07"
      },
      "outputs": [
        {
          "output_type": "stream",
          "name": "stdout",
          "text": [
            "Welcome to the application Steph! Please login:\n",
            "Welcome to the application Dray! Please login:\n",
            "Welcome to the application Klay! Please login:\n",
            "Welcome to the application Andrew! Please login:\n",
            "Welcome to the application James! Please login:\n",
            "Welcome to the application! You are the admin now, please login:\n"
          ]
        }
      ],
      "source": [
        "#1\n",
        "usernames = [\"Steph\", \"Dray\", \"Klay\", \"Andrew\", \"James\", \"Admin\"]\n",
        "for name in usernames:\n",
        "  if name == \"Admin\":\n",
        "    print(\"Welcome to the application! You are the admin now, please login:\")\n",
        "  else:\n",
        "    print(\"Welcome to the application \" + name + \"!\" + \" Please login:\")\n"
      ]
    },
    {
      "cell_type": "code",
      "source": [
        "#2\n",
        "numbers = list(range(1,11))\n",
        "\n",
        "print(numbers)\n",
        "\n",
        "for num in numbers:\n",
        "  if num == 1:\n",
        "    print(str(num) + 'st')\n",
        "  elif num == 2:\n",
        "    print(str(num) + 'nd')\n",
        "  elif num == 3:\n",
        "    print(str(num) + \"rd\")\n",
        "  else:\n",
        "    print(str(num) + 'th')\n"
      ],
      "metadata": {
        "colab": {
          "base_uri": "https://localhost:8080/"
        },
        "id": "swXOcKvz15zh",
        "outputId": "e83b3756-ccdf-4d1c-8acf-90a532927317"
      },
      "execution_count": null,
      "outputs": [
        {
          "output_type": "stream",
          "name": "stdout",
          "text": [
            "[1, 2, 3, 4, 5, 6, 7, 8, 9, 10]\n",
            "1st\n",
            "2nd\n",
            "3rd\n",
            "4th\n",
            "5th\n",
            "6th\n",
            "7th\n",
            "8th\n",
            "9th\n",
            "10th\n"
          ]
        }
      ]
    }
  ]
}