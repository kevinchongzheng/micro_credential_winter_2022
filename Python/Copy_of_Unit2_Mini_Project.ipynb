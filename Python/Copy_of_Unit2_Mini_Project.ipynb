{
  "nbformat": 4,
  "nbformat_minor": 0,
  "metadata": {
    "colab": {
      "name": "Copy of Unit2_Mini_Project.ipynb",
      "provenance": [],
      "collapsed_sections": [],
      "toc_visible": true
    },
    "kernelspec": {
      "name": "python3",
      "display_name": "Python 3"
    }
  },
  "cells": [
    {
      "cell_type": "markdown",
      "metadata": {
        "id": "Vgs8Kp4TidFQ"
      },
      "source": [
        "# Intrdouction to Python - Mini Project"
      ]
    },
    {
      "cell_type": "markdown",
      "metadata": {
        "id": "_Hq7Ny79iwgD"
      },
      "source": [
        "#Python Project – Odd or Even\n",
        "\n",
        "Ask the user for a number. Depending on whether the number is even or odd, print out an appropriate message to the user. Hint: how does an even / odd number react differently when divided by 2?\n"
      ]
    },
    {
      "cell_type": "code",
      "metadata": {
        "id": "lotvpVpvlKsR",
        "colab": {
          "base_uri": "https://localhost:8080/"
        },
        "outputId": "261f7117-c914-4aba-c745-1ba7df1ce8ba"
      },
      "source": [
        "#Ask the user to enter a number\n",
        "#I will call the number entered num\n",
        "\n",
        "num = int(input(\"Please enter a number:\\n\"))\n",
        "\n",
        "#If num module 2 equals 0, it will print a statement\n",
        "#If num module 2 does not equal 0, it will print another statement\n",
        "\n",
        "if num % 2 == 0:\n",
        "  print(str(num) + \" is an even number.\")\n",
        "else:\n",
        "  print(str(num) + \" is an odd number.\")"
      ],
      "execution_count": 8,
      "outputs": [
        {
          "output_type": "stream",
          "name": "stdout",
          "text": [
            "Please enter a number:\n",
            "121\n",
            "121 is an odd number.\n"
          ]
        }
      ]
    },
    {
      "cell_type": "code",
      "metadata": {
        "id": "oNXY-CfrlLbE"
      },
      "source": [
        ""
      ],
      "execution_count": null,
      "outputs": []
    },
    {
      "cell_type": "code",
      "metadata": {
        "id": "lyoaBLI8nvRT"
      },
      "source": [
        ""
      ],
      "execution_count": null,
      "outputs": []
    },
    {
      "cell_type": "code",
      "metadata": {
        "id": "TuD1O2R0nvTd"
      },
      "source": [
        ""
      ],
      "execution_count": null,
      "outputs": []
    },
    {
      "cell_type": "code",
      "metadata": {
        "id": "1uWxo8AxnvVN"
      },
      "source": [
        ""
      ],
      "execution_count": null,
      "outputs": []
    },
    {
      "cell_type": "code",
      "metadata": {
        "id": "32ld2T0onvZE"
      },
      "source": [
        ""
      ],
      "execution_count": null,
      "outputs": []
    },
    {
      "cell_type": "code",
      "metadata": {
        "id": "DGwOthAbnvaw"
      },
      "source": [
        ""
      ],
      "execution_count": null,
      "outputs": []
    },
    {
      "cell_type": "code",
      "metadata": {
        "id": "6_iDEhq5nvd8"
      },
      "source": [
        ""
      ],
      "execution_count": null,
      "outputs": []
    },
    {
      "cell_type": "markdown",
      "metadata": {
        "id": "io_27RSlizno"
      },
      "source": [
        "# Bonus:\n",
        "\n",
        "1.\tIf the number is a multiple of 4, print out a different message.\n",
        "\n",
        "2.\tAsk the user for two numbers: one number to check (call it num) and one number to divide by (check). If check divides evenly into num, tell that to the user. If not, print a different appropriate message.\n"
      ]
    },
    {
      "cell_type": "code",
      "metadata": {
        "id": "Dh1o5cAylSHB",
        "colab": {
          "base_uri": "https://localhost:8080/"
        },
        "outputId": "b5acf613-f565-4c2e-ec4f-be944e73e87a"
      },
      "source": [
        "#1\n",
        "#Ask the user to enter a number\n",
        "#I will call the number entered x\n",
        "\n",
        "x = int(input(\"Please enter a number:\\n\"))\n",
        "\n",
        "#If x module 4 equals 0, it will print a statement\n",
        "#If x module 4 does not equal 0, it will print another statement\n",
        "\n",
        "if  x % 4 == 0:\n",
        "  print(str(x) + \" is divisible by 4.\")\n",
        "else:\n",
        "  print(str(x) + \" is not divisible by 4.\")"
      ],
      "execution_count": 23,
      "outputs": [
        {
          "output_type": "stream",
          "name": "stdout",
          "text": [
            "Please enter a number:\n",
            "20\n",
            "20 is divisible by 4.\n"
          ]
        }
      ]
    },
    {
      "cell_type": "code",
      "metadata": {
        "id": "vs8ppR-wlSKL",
        "colab": {
          "base_uri": "https://localhost:8080/"
        },
        "outputId": "c7e581fa-0751-4761-e807-35baef913a30"
      },
      "source": [
        "#2\n",
        "#Ask the user to enter two numbers\n",
        "#I will call the number for checking num\n",
        "#And the number for dividing by call check\n",
        "\n",
        "num = int(input(\"Please enter a number you want to check:\\n\"))\n",
        "check = int(input(\"Please enter a number to divide by:\\n\"))\n",
        "\n",
        "#If num module check equals 0, it will print a statement\n",
        "#Otherwise, it will print another statement\n",
        "\n",
        "if num % check == 0:\n",
        "  print(str(check) + \" divides evenly into \" + str(num) + \".\")\n",
        "else:\n",
        "  print(str(check) + \" divides oddly into \" + str(num) + \".\")\n"
      ],
      "execution_count": 33,
      "outputs": [
        {
          "output_type": "stream",
          "name": "stdout",
          "text": [
            "Please enter a number you want to check:\n",
            "50\n",
            "Please enter a number to divide by:\n",
            "5\n",
            "5 divides evenly into 50.\n"
          ]
        }
      ]
    },
    {
      "cell_type": "code",
      "metadata": {
        "id": "5mkKtxzunuqc"
      },
      "source": [
        ""
      ],
      "execution_count": null,
      "outputs": []
    },
    {
      "cell_type": "code",
      "metadata": {
        "id": "rmfPnI5onutd"
      },
      "source": [
        ""
      ],
      "execution_count": null,
      "outputs": []
    },
    {
      "cell_type": "code",
      "metadata": {
        "id": "6000qDkVnuxM"
      },
      "source": [
        ""
      ],
      "execution_count": null,
      "outputs": []
    },
    {
      "cell_type": "code",
      "metadata": {
        "id": "X2X4dTbfnu0M"
      },
      "source": [
        ""
      ],
      "execution_count": null,
      "outputs": []
    }
  ]
}