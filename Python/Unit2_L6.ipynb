{
  "nbformat": 4,
  "nbformat_minor": 0,
  "metadata": {
    "colab": {
      "name": "Unit2_L6.ipynb",
      "provenance": []
    },
    "kernelspec": {
      "name": "python3",
      "display_name": "Python 3"
    },
    "language_info": {
      "name": "python"
    }
  },
  "cells": [
    {
      "cell_type": "code",
      "execution_count": 2,
      "metadata": {
        "id": "9uhHBpHqvoiT"
      },
      "outputs": [],
      "source": [
        "#1\n",
        "name = {\"First\" : \"Kevin\" , \"Last\" : \"Chong\"}"
      ]
    },
    {
      "cell_type": "code",
      "source": [
        "#2\n",
        "print(name[\"First\"])\n",
        "print(name[\"Last\"])"
      ],
      "metadata": {
        "colab": {
          "base_uri": "https://localhost:8080/"
        },
        "id": "1ojBgMpfwdyJ",
        "outputId": "870d7f35-0f1f-4a41-ee35-f4f2b2ebbdfe"
      },
      "execution_count": 3,
      "outputs": [
        {
          "output_type": "stream",
          "name": "stdout",
          "text": [
            "Kevin\n",
            "Chong\n"
          ]
        }
      ]
    },
    {
      "cell_type": "code",
      "source": [
        "#3\n",
        "print(\"Hello \" + name[\"First\"] + \" \" + name[\"Last\"] + \"! How are you today?\")"
      ],
      "metadata": {
        "colab": {
          "base_uri": "https://localhost:8080/"
        },
        "id": "9axCeq-Jx7Nx",
        "outputId": "8f55ba23-526e-4186-93df-561cd1e69b93"
      },
      "execution_count": 5,
      "outputs": [
        {
          "output_type": "stream",
          "name": "stdout",
          "text": [
            "Hello Kevin Chong! How are you today?\n"
          ]
        }
      ]
    },
    {
      "cell_type": "code",
      "source": [
        "#4\n",
        "lunch = {\"Eat\": \"Hamburger\" , \"Drink\": \"Coke\"}\n",
        "print(lunch)"
      ],
      "metadata": {
        "colab": {
          "base_uri": "https://localhost:8080/"
        },
        "id": "PLRSgv6-ytUz",
        "outputId": "f06e2c91-6877-4bb3-882e-e18f269701ed"
      },
      "execution_count": 6,
      "outputs": [
        {
          "output_type": "stream",
          "name": "stdout",
          "text": [
            "{'Eat': 'Hamburger', 'Drink': 'Coke'}\n"
          ]
        }
      ]
    }
  ]
}