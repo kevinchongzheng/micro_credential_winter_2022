{
  "nbformat": 4,
  "nbformat_minor": 0,
  "metadata": {
    "colab": {
      "name": "Unit2_L2.ipynb",
      "provenance": []
    },
    "kernelspec": {
      "name": "python3",
      "display_name": "Python 3"
    },
    "language_info": {
      "name": "python"
    }
  },
  "cells": [
    {
      "cell_type": "markdown",
      "source": [
        "Question #1\n",
        "\n",
        "Python is an interpreted, interactive, object-oriented, and high-level programming language. It is useful because of its strength, readability, and extensiveness. Nowadays,  many people from different fields are using python to accomplish their work.\n"
      ],
      "metadata": {
        "id": "eXmBWHA9Usml"
      }
    },
    {
      "cell_type": "markdown",
      "source": [
        "Question #2\n",
        "\n",
        "b, c, e are allowed, and a, d are not allowed."
      ],
      "metadata": {
        "id": "JmsPAHiQaWcY"
      }
    },
    {
      "cell_type": "code",
      "source": [
        "#3\n",
        "hi = \"hello there!\"\n",
        "print(hi)"
      ],
      "metadata": {
        "colab": {
          "base_uri": "https://localhost:8080/"
        },
        "id": "Bk9Tw60ndJwx",
        "outputId": "0893bc3d-cd91-45c9-b99f-2908f3e8002d"
      },
      "execution_count": null,
      "outputs": [
        {
          "output_type": "stream",
          "name": "stdout",
          "text": [
            "hello there!\n"
          ]
        }
      ]
    },
    {
      "cell_type": "code",
      "source": [
        "#4\n",
        "first = \"kevin\"\n",
        "last = \"chong\"\n",
        "extension = \"@gmail.com\"\n",
        "email = first + last + extension\n",
        "print(email)"
      ],
      "metadata": {
        "colab": {
          "base_uri": "https://localhost:8080/"
        },
        "id": "p7XVOk2cdrG7",
        "outputId": "13423b2e-bbe6-46dd-c7f7-b0211dc30790"
      },
      "execution_count": null,
      "outputs": [
        {
          "output_type": "stream",
          "name": "stdout",
          "text": [
            "kevinchong@gmail.com\n"
          ]
        }
      ]
    },
    {
      "cell_type": "code",
      "source": [
        "#5\n",
        "name = \"Steph\"\n",
        "print(name.lower())\n",
        "print(name.upper())"
      ],
      "metadata": {
        "colab": {
          "base_uri": "https://localhost:8080/"
        },
        "id": "L7shxQ5qeKkv",
        "outputId": "324042d8-b9a4-4cc6-a36e-42270389c2f7"
      },
      "execution_count": null,
      "outputs": [
        {
          "output_type": "stream",
          "name": "stdout",
          "text": [
            "steph\n",
            "STEPH\n"
          ]
        }
      ]
    },
    {
      "cell_type": "code",
      "source": [
        "#6\n",
        "date = 16\n",
        "print(\"Do you want to hang out on the \" +  str(date) + \"th of this month?\")"
      ],
      "metadata": {
        "colab": {
          "base_uri": "https://localhost:8080/"
        },
        "id": "7DBVAfD4eiCz",
        "outputId": "c5fd81db-651f-4bfa-d52b-35bed13683fd"
      },
      "execution_count": null,
      "outputs": [
        {
          "output_type": "stream",
          "name": "stdout",
          "text": [
            "Do you want to hang out on the 16th of this month?\n"
          ]
        }
      ]
    }
  ]
}