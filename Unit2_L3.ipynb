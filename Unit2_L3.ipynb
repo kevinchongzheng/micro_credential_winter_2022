{
  "cells": [
    {
      "cell_type": "code",
      "execution_count": null,
      "metadata": {
        "id": "LswB93MXjuiw"
      },
      "outputs": [],
      "source": [
        "#1\n",
        "tv_shows = [\"Game of Thrones\", \"Squid Game\", \"Friends\", \"WandaVision\", \"Loki\"]"
      ]
    },
    {
      "cell_type": "code",
      "execution_count": null,
      "metadata": {
        "colab": {
          "base_uri": "https://localhost:8080/"
        },
        "id": "VD_2M4P8mDdV",
        "outputId": "5739329c-9119-4db8-e673-66c290776750"
      },
      "outputs": [
        {
          "name": "stdout",
          "output_type": "stream",
          "text": [
            "['Game of Thrones', 'Squid Game', 'Friends', 'WandaVision', 'Loki']\n"
          ]
        }
      ],
      "source": [
        "#2\n",
        "print(tv_shows)"
      ]
    },
    {
      "cell_type": "code",
      "execution_count": null,
      "metadata": {
        "colab": {
          "base_uri": "https://localhost:8080/"
        },
        "id": "Y3xbPGb2mUOK",
        "outputId": "31579479-a1d4-4537-a062-7c81b210017e"
      },
      "outputs": [
        {
          "name": "stdout",
          "output_type": "stream",
          "text": [
            "['Friends', 'Game of Thrones', 'Loki', 'Squid Game', 'WandaVision']\n"
          ]
        }
      ],
      "source": [
        "#3\n",
        "print(sorted(tv_shows))"
      ]
    },
    {
      "cell_type": "markdown",
      "source": [
        "The sorted function is for temporaly sorting your list, and the sort function is for permanently sorting your list."
      ],
      "metadata": {
        "id": "rHy-B63poObl"
      }
    },
    {
      "cell_type": "code",
      "execution_count": null,
      "metadata": {
        "colab": {
          "base_uri": "https://localhost:8080/"
        },
        "id": "zAVxWfQVm4UC",
        "outputId": "9a54ec15-4c1f-42bc-959c-aded03fcc514"
      },
      "outputs": [
        {
          "output_type": "stream",
          "name": "stdout",
          "text": [
            "['Game of Thrones', 'Squid Game', 'Friends', 'WandaVision', 'Loki']\n"
          ]
        }
      ],
      "source": [
        "#4\n",
        "print(tv_shows)\n"
      ]
    },
    {
      "cell_type": "code",
      "execution_count": null,
      "metadata": {
        "id": "o2J-LL2fmN7M",
        "colab": {
          "base_uri": "https://localhost:8080/"
        },
        "outputId": "02ae670d-5966-42e2-dc15-b8d989c7243b"
      },
      "outputs": [
        {
          "output_type": "stream",
          "name": "stdout",
          "text": [
            "['WandaVision', 'Squid Game', 'Loki', 'Game of Thrones', 'Friends']\n"
          ]
        }
      ],
      "source": [
        "#5\n",
        "print(sorted(tv_shows,reverse=True))"
      ]
    },
    {
      "cell_type": "code",
      "source": [
        "#6\n",
        "print(\"I have \" + str(len(tv_shows)) + \" favorite TV shows.\")"
      ],
      "metadata": {
        "colab": {
          "base_uri": "https://localhost:8080/"
        },
        "id": "vR2zl4LgoubQ",
        "outputId": "16a02a61-f892-4bc9-df7f-30fb1aa99fc1"
      },
      "execution_count": null,
      "outputs": [
        {
          "output_type": "stream",
          "name": "stdout",
          "text": [
            "I have 5 favorite TV shows.\n"
          ]
        }
      ]
    }
  ],
  "metadata": {
    "colab": {
      "name": "Unit2.L3.ipynb",
      "provenance": []
    },
    "kernelspec": {
      "display_name": "Python 3",
      "name": "python3"
    },
    "language_info": {
      "name": "python"
    }
  },
  "nbformat": 4,
  "nbformat_minor": 0
}